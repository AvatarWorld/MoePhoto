{
 "cells": [
  {
   "cell_type": "code",
   "execution_count": 1,
   "metadata": {},
   "outputs": [],
   "source": [
    "import torch\n",
    "import sys\n",
    "sys.path.append('./python')\n",
    "from progress import initialETA, ops, newOp, slideAverage\n",
    "from imageProcess import genProcess\n",
    "from config import config\n",
    "\n",
    "inTensor = torch.randn((3, 1080, 1920), dtype=config.dtype(), device=config.device())\n",
    "\n",
    "imgType = dict(bitDepth=8, channel=0, source=0, load=inTensor.nelement())\n",
    "\n",
    "opt1 = dict(op='SR', model='a', scale=2)\n",
    "opt2 = dict(op='SR', model='lite', scale=2)\n",
    "\n",
    "def run(cases, times=1):\n",
    "    for _, node, _1 in cases:\n",
    "        node.learn = times\n",
    "        ops[node.op] = newOp(slideAverage(1 - 1 / times))\n",
    "    for i in range(times):\n",
    "        for process, node, _ in cases:\n",
    "            initialETA(node)\n",
    "            process(inTensor)\n",
    "            torch.cuda.empty_cache()\n",
    "\n",
    "def show(cases):\n",
    "    for _, node, opt in cases:\n",
    "        v = opt.copy()\n",
    "        if 'opt' in v:\n",
    "            del v['opt']\n",
    "        print(v, ops[node.op].weight)"
   ]
  },
  {
   "cell_type": "code",
   "execution_count": 2,
   "metadata": {},
   "outputs": [
    {
     "name": "stdout",
     "output_type": "stream",
     "text": [
      "loading model ./model/a2/model_new.pth\n",
      "reloading weights\n",
      "loading model ./model/lite/lite_new.pth\n",
      "reloading weights\n"
     ]
    }
   ],
   "source": [
    "p1, nodes1 = genProcess([opt1], True, imgType)\n",
    "p2, nodes2 = genProcess([opt2], True, imgType)\n",
    "cases = [(p1, nodes1[0], opt1), (p2, nodes2[0], opt2)]\n",
    "run(cases) # warming up"
   ]
  },
  {
   "cell_type": "code",
   "execution_count": 3,
   "metadata": {},
   "outputs": [
    {
     "name": "stdout",
     "output_type": "stream",
     "text": [
      "{'op': 'SR', 'model': 'a', 'scale': 2} 9.891388540909271e-08\n",
      "{'op': 'SR', 'model': 'lite', 'scale': 2} 2.3137703853025235e-08\n"
     ]
    }
   ],
   "source": [
    "run(cases, 10)\n",
    "show(cases)"
   ]
  }
 ],
 "metadata": {
  "kernelspec": {
   "display_name": "Python 3",
   "language": "python",
   "name": "python3"
  },
  "language_info": {
   "codemirror_mode": {
    "name": "ipython",
    "version": 3
   },
   "file_extension": ".py",
   "mimetype": "text/x-python",
   "name": "python",
   "nbconvert_exporter": "python",
   "pygments_lexer": "ipython3",
   "version": "3.7.1"
  }
 },
 "nbformat": 4,
 "nbformat_minor": 2
}

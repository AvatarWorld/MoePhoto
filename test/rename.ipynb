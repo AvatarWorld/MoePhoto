{
 "cells": [
  {
   "cell_type": "code",
   "execution_count": null,
   "metadata": {},
   "outputs": [],
   "source": [
    "!dir /b /w ."
   ]
  },
  {
   "cell_type": "code",
   "execution_count": 1,
   "metadata": {},
   "outputs": [
    {
     "name": "stderr",
     "output_type": "stream",
     "text": [
      "No module named 'pynvml'\n"
     ]
    }
   ],
   "source": [
    "import sys\n",
    "import os\n",
    "import torch\n",
    "sys.path.append(os.path.abspath('../python'))\n",
    "\n",
    "cuda = torch.cuda.is_available()\n",
    "dtype = torch.float\n",
    "from PIL import Image\n",
    "from imageProcess import toTorch, readFile, toOutput\n",
    "device = torch.device('cuda') if torch.cuda.is_available() else torch.device('cpu')\n",
    "show = lambda im: Image.fromarray(toOutput(8)(im).transpose(1, 2, 0))\n",
<<<<<<< HEAD
    "readFile = readFile()"
=======
    "readFile = readFile()\n",
    "modelFile = 'lite4.onnx'"
>>>>>>> 8dd62159e7834a58673a16b01022ad0641205ecd
   ]
  },
  {
   "cell_type": "code",
   "execution_count": null,
   "metadata": {},
   "outputs": [],
   "source": [
    "from MoeNet_lite2 import Net\n",
    "model = Net(4)\n",
    "model.load_state_dict(torch.load('../model/lite/model_4.pth'))\n",
    "model.eval()\n",
    "for param in model.parameters():\n",
    "    param.requires_grad_(False)\n",
    "weights = model.state_dict()\n",
    "for name in weights.keys():\n",
    "    print(name)"
   ]
  },
  {
   "cell_type": "code",
   "execution_count": null,
   "metadata": {},
   "outputs": [],
   "source": [
    "modelPath = './model_epoch_43.pth'\n",
    "o = torch.load(modelPath, map_location='cpu')\n",
    "for key in o:\n",
    "    print(key)"
   ]
  },
  {
   "cell_type": "code",
   "execution_count": null,
   "metadata": {},
   "outputs": [],
   "source": [
    "w = o['model'].state_dict()\n",
    "for name in w.keys():\n",
    "    print(name)"
   ]
  },
  {
   "cell_type": "code",
   "execution_count": null,
   "metadata": {},
   "outputs": [],
   "source": [
    "for name in weights.keys():\n",
    "    weights[name] = w['module.' + name]"
   ]
  },
  {
   "cell_type": "code",
   "execution_count": null,
   "metadata": {},
   "outputs": [],
   "source": [
    "def changeName(old, new):\n",
    "    weights[new] = weights[old]\n",
    "    del weights[old]\n",
    "\n",
    "names = ['conv_1.weight', 'conv_2.weight', 'relu.weight', 'scale.scale']\n",
    "for i in range(6):\n",
    "    for name in names:\n",
    "        changeName('convt_F1{}.{}'.format(i + 1, name), 'convt_F{}.{}'.format(i + 1, name))\n",
    "changeName('convt_shape1.weight', 'u.weight')"
   ]
  },
  {
   "cell_type": "code",
   "execution_count": null,
   "metadata": {},
   "outputs": [],
   "source": [
    "model.load_state_dict(weights)\n",
    "torch.save(model.state_dict(), '../model/lite/model_4.pth')"
   ]
  },
  {
   "cell_type": "code",
<<<<<<< HEAD
   "execution_count": 2,
=======
   "execution_count": null,
>>>>>>> 8dd62159e7834a58673a16b01022ad0641205ecd
   "metadata": {},
   "outputs": [],
   "source": [
    "fileName = '../images/example1s.png'\n",
<<<<<<< HEAD
    "fileName = 'example1s.png'\n",
=======
    "#fileName = 'example1s.png'\n",
>>>>>>> 8dd62159e7834a58673a16b01022ad0641205ecd
    "original = toTorch(8, dtype, device)(readFile(fileName))\n",
    "if cuda:\n",
    "    original = original.cuda()\n",
    "x = original.unsqueeze(1)"
   ]
  },
  {
   "cell_type": "code",
   "execution_count": null,
   "metadata": {},
   "outputs": [],
   "source": [
    "if cuda:\n",
    "    model = model.cuda()"
   ]
  },
  {
   "cell_type": "code",
<<<<<<< HEAD
   "execution_count": 7,
=======
   "execution_count": null,
>>>>>>> 8dd62159e7834a58673a16b01022ad0641205ecd
   "metadata": {},
   "outputs": [],
   "source": [
    "out = model(x)[0].squeeze(1)"
   ]
  },
  {
   "cell_type": "code",
<<<<<<< HEAD
   "execution_count": 8,
=======
   "execution_count": null,
>>>>>>> 8dd62159e7834a58673a16b01022ad0641205ecd
   "metadata": {},
   "outputs": [],
   "source": [
    "from torch import nn\n",
    "import torch.onnx\n",
<<<<<<< HEAD
    "torch.onnx.export(model, x, 'lite4.onnx', export_params=True, opset_version=10, do_constant_folding=True,\n",
    "                  input_names=['x'], output_names=['out'],\n",
    "                 dynamic_axes={'x': {0: 'channels', 2: 'height', 3: 'weight'}, 'out': {0: 'channels', 2: 'height', 3: 'weight'}})"
=======
    "torch.onnx.export(model, x, modelFile, export_params=True, opset_version=10,\n",
    "                  do_constant_folding=True, keep_initializers_as_inputs=True,\n",
    "                  input_names=['x'], output_names=['out'],\n",
    "                  dynamic_axes={'x': {0: 'channels', 2: 'height', 3: 'weight'}, 'out': {0: 'channels', 2: 'height', 3: 'weight'}})"
>>>>>>> 8dd62159e7834a58673a16b01022ad0641205ecd
   ]
  },
  {
   "cell_type": "code",
<<<<<<< HEAD
   "execution_count": 3,
=======
   "execution_count": null,
>>>>>>> 8dd62159e7834a58673a16b01022ad0641205ecd
   "metadata": {},
   "outputs": [],
   "source": [
    "import onnx\n",
    "\n",
<<<<<<< HEAD
    "onnx_model = onnx.load(\"lite4.onnx\")\n",
=======
    "onnx_model = onnx.load(modelFile)\n",
>>>>>>> 8dd62159e7834a58673a16b01022ad0641205ecd
    "onnx.checker.check_model(onnx_model)"
   ]
  },
  {
   "cell_type": "code",
<<<<<<< HEAD
   "execution_count": 4,
=======
   "execution_count": null,
>>>>>>> 8dd62159e7834a58673a16b01022ad0641205ecd
   "metadata": {},
   "outputs": [],
   "source": [
    "import onnxruntime\n",
    "\n",
<<<<<<< HEAD
    "ort_session = onnxruntime.InferenceSession(\"lite4.onnx\")\n",
=======
    "ort_session = onnxruntime.InferenceSession(modelFile)"
   ]
  },
  {
   "cell_type": "code",
   "execution_count": null,
   "metadata": {},
   "outputs": [],
   "source": [
>>>>>>> 8dd62159e7834a58673a16b01022ad0641205ecd
    "ort_inputs = {'x': x.cpu().numpy()}"
   ]
  },
  {
   "cell_type": "code",
   "execution_count": null,
   "metadata": {},
   "outputs": [],
   "source": [
    "ort_out = ort_session.run(None, ort_inputs)[0].squeeze(1)"
   ]
  },
  {
   "cell_type": "code",
   "execution_count": null,
   "metadata": {},
   "outputs": [],
   "source": [
    "import numpy as np\n",
    "np.testing.assert_allclose(out.numpy(), ort_out, rtol=1e-03, atol=1e-05)"
   ]
  },
  {
   "cell_type": "code",
   "execution_count": null,
   "metadata": {},
   "outputs": [],
   "source": [
    "show(torch.from_numpy(ort_out))"
   ]
  },
  {
   "cell_type": "code",
   "execution_count": null,
   "metadata": {},
   "outputs": [],
   "source": [
    "show(out)"
   ]
  }
 ],
 "metadata": {
  "kernelspec": {
   "display_name": "Python 3",
   "language": "python",
   "name": "python3"
  },
  "language_info": {
   "codemirror_mode": {
    "name": "ipython",
    "version": 3
   },
   "file_extension": ".py",
   "mimetype": "text/x-python",
   "name": "python",
   "nbconvert_exporter": "python",
   "pygments_lexer": "ipython3",
   "version": "3.7.4"
  }
 },
 "nbformat": 4,
 "nbformat_minor": 2
}

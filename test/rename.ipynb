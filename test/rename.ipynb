{
 "cells": [
  {
   "cell_type": "code",
   "execution_count": null,
   "metadata": {},
   "outputs": [],
   "source": [
    "!dir /b /w ."
   ]
  },
  {
   "cell_type": "code",
   "execution_count": null,
   "metadata": {},
   "outputs": [],
   "source": [
    "import sys\n",
    "import os\n",
    "import torch\n",
    "sys.path.append(os.path.abspath('../python'))\n",
    "\n",
    "cuda = torch.cuda.is_available()\n",
    "dtype = torch.float\n",
    "from PIL import Image\n",
    "from imageProcess import toTorch, readFile, toOutput\n",
    "device = torch.device('cuda') if torch.cuda.is_available() else torch.device('cpu')\n",
    "show = lambda im: Image.fromarray(toOutput(8)(im).transpose(1, 2, 0))\n",
    "readFile = readFile()"
   ]
  },
  {
   "cell_type": "code",
   "execution_count": null,
   "metadata": {},
   "outputs": [],
   "source": [
    "w = torch.load('./model_epoch_200.pth', map_location='cpu')['model'].state_dict()\n",
    "for name in w.keys():\n",
    "    print(name)"
   ]
  },
  {
   "cell_type": "code",
   "execution_count": null,
   "metadata": {},
   "outputs": [],
   "source": [
    "from sun_demoire import Net\n",
    "m1 = Net()\n",
    "m1.eval()\n",
    "for param in m1.parameters():\n",
    "    param.requires_grad_(False)"
   ]
  },
  {
   "cell_type": "code",
   "execution_count": null,
   "metadata": {},
   "outputs": [],
   "source": [
    "w = torch.load('./model_epoch_200.pth', map_location='cpu')['model'].state_dict()\n",
    "w1 = m1.state_dict()\n",
    "for k in w:\n",
    "    w1[k.replace('module.', '')] = w[k]\n",
    "m1.load_state_dict(w1)"
   ]
  },
  {
   "cell_type": "code",
   "execution_count": null,
   "metadata": {},
   "outputs": [],
   "source": [
    "from sun_demoire import Net\n",
    "model = Net()\n",
    "model.eval()\n",
    "for param in model.parameters():\n",
    "    param.requires_grad_(False)\n",
    "weights = model.state_dict()\n",
    "for name in weights.keys():\n",
    "    print(name)"
   ]
  },
  {
   "cell_type": "code",
   "execution_count": null,
   "metadata": {},
   "outputs": [],
   "source": [
    "for k in ['relu', 'convt_R1', 'down']:\n",
    "    for i in range(5):\n",
    "        weights['downs.{}.{}.weight'.format(i, k)] = w1['down{}.{}.weight'.format(i, k)]\n",
    "weights['branches.0.0.weight'] = w1['branch1.conv_input.weight']\n",
    "weights['branches.0.1.weight'] = w1['branch1.relu.weight']\n",
    "for i in range(1, 5):\n",
    "    for j in range(i):\n",
    "        weights['branches.{}.{}.weight'.format(i, j * 2)] = w1['branch{}.u{}.weight'.format(i + 1, j + 1)]\n",
    "        weights['branches.{}.{}.bias'.format(i, j * 2)] = w1['branch{}.u{}.bias'.format(i + 1, j + 1)]\n",
    "        weights['branches.{}.{}.weight'.format(i, j * 2 + 1)] = w1['branch{}.relu{}.weight'.format(i + 1, (j + 1) if i > 1 else '')]\n",
    "    weights['branches.{}.{}.weight'.format(i, i * 2)] = w1['branch{}.conv.weight'.format(i + 1)]"
   ]
  },
  {
   "cell_type": "code",
   "execution_count": null,
   "metadata": {},
   "outputs": [],
   "source": [
    "keys = ['branches.0.1.weight', 'branches.0.0.weight'] + ['downs.{}.{}.weight'.format(i, k) for i in range(5) for k in ['relu', 'convt_R1', 'down']]\n",
    "for i in range(1, 5):\n",
    "    for j in range(i):\n",
    "        keys.append('branches.{}.{}.weight'.format(i, j * 2))\n",
    "        keys.append('branches.{}.{}.bias'.format(i, j * 2))\n",
    "        keys.append('branches.{}.{}.weight'.format(i, j * 2 + 1))\n",
    "    keys.append('branches.{}.{}.weight'.format(i, i * 2))\n",
    "for k in weights.keys():\n",
    "    assert k in keys"
   ]
  },
  {
   "cell_type": "code",
   "execution_count": null,
   "metadata": {},
   "outputs": [],
   "source": [
    "weights = torch.load('../model/demoire/sun_epoch_200.pth', map_location='cpu')\n",
    "from sun_demoire import Net\n",
    "model = Net()\n",
    "model.eval()\n",
    "for param in model.parameters():\n",
    "    param.requires_grad_(False)\n",
    "model.load_state_dict(weights)\n",
    "if cuda:\n",
    "    model = model.cuda()"
   ]
  },
  {
   "cell_type": "code",
   "execution_count": null,
   "metadata": {},
   "outputs": [],
   "source": [
    "torch.save(model.state_dict(), '../model/demoire/sun_epoch_200.pth')"
   ]
  },
  {
   "cell_type": "code",
   "execution_count": null,
   "metadata": {},
   "outputs": [],
   "source": [
    "w = o['model'].state_dict()\n",
    "for name in w.keys():\n",
    "    print(name)"
   ]
  },
  {
   "cell_type": "code",
   "execution_count": null,
   "metadata": {},
   "outputs": [],
   "source": [
    "for name in weights.keys():\n",
    "    weights[name] = w['module.' + name]"
   ]
  },
  {
   "cell_type": "code",
   "execution_count": null,
   "metadata": {},
   "outputs": [],
   "source": [
    "def changeName(old, new):\n",
    "    weights[new] = weights[old]\n",
    "    del weights[old]\n",
    "\n",
    "names = ['conv_1.weight', 'conv_2.weight', 'relu.weight', 'scale.scale']\n",
    "for i in range(6):\n",
    "    for name in names:\n",
    "        changeName('convt_F1{}.{}'.format(i + 1, name), 'convt_F{}.{}'.format(i + 1, name))\n",
    "changeName('convt_shape1.weight', 'u.weight')"
   ]
  },
  {
   "cell_type": "code",
   "execution_count": null,
   "metadata": {},
   "outputs": [],
   "source": [
    "model.load_state_dict(weights)\n",
    "torch.save(model.state_dict(), '../model/lite/model_4.pth')"
   ]
  },
  {
   "cell_type": "code",
   "execution_count": null,
   "metadata": {},
   "outputs": [],
   "source": [
    "fileName = '1566005911.7879605_mi.png'\n",
    "original = toTorch(8, dtype, device)(readFile(fileName))\n",
    "if cuda:\n",
    "    original = original.cuda()\n",
    "x = original.unsqueeze(0)"
   ]
  },
  {
   "cell_type": "code",
   "execution_count": null,
   "metadata": {},
   "outputs": [],
   "source": [
    "out = model(x)[0]\n",
    "im = show(out.squeeze(0))\n",
    "im"
   ]
  },
  {
   "cell_type": "code",
   "execution_count": null,
   "metadata": {},
   "outputs": [],
   "source": [
    "im.save('out.png')"
   ]
  },
  {
   "cell_type": "code",
   "execution_count": null,
   "metadata": {},
   "outputs": [],
   "source": [
    "from torch import nn\n",
    "import torch.onnx\n",
    "torch.onnx.export(model, x, 'lite4.onnx', export_params=True, opset_version=10, do_constant_folding=True,\n",
    "                  input_names=['x'], output_names=['out'],\n",
    "                 dynamic_axes={'x': {0: 'channels', 2: 'height', 3: 'weight'}, 'out': {0: 'channels', 2: 'height', 3: 'weight'}})"
   ]
  },
  {
   "cell_type": "code",
   "execution_count": null,
   "metadata": {},
   "outputs": [],
   "source": [
    "import onnx\n",
    "\n",
    "onnx_model = onnx.load(\"lite4.onnx\")\n",
    "onnx.checker.check_model(onnx_model)"
   ]
  },
  {
   "cell_type": "code",
   "execution_count": null,
   "metadata": {},
   "outputs": [],
   "source": [
    "import onnxruntime\n",
    "\n",
    "ort_session = onnxruntime.InferenceSession(\"lite4.onnx\")\n",
    "ort_inputs = {'x': x.cpu().numpy()}"
   ]
  },
  {
   "cell_type": "code",
   "execution_count": null,
   "metadata": {},
   "outputs": [],
   "source": [
    "ort_out = ort_session.run(None, ort_inputs)[0].squeeze(1)"
   ]
  },
  {
   "cell_type": "code",
   "execution_count": null,
   "metadata": {},
   "outputs": [],
   "source": [
    "import numpy as np\n",
    "np.testing.assert_allclose(out.numpy(), ort_out, rtol=1e-03, atol=1e-05)"
   ]
  },
  {
   "cell_type": "code",
   "execution_count": null,
   "metadata": {},
   "outputs": [],
   "source": [
    "show(torch.from_numpy(ort_out))"
   ]
  },
  {
   "cell_type": "code",
   "execution_count": null,
   "metadata": {},
   "outputs": [],
   "source": [
    "show(out)"
   ]
  }
 ],
 "metadata": {
  "kernelspec": {
   "display_name": "Python 3",
   "language": "python",
   "name": "python3"
  },
  "language_info": {
   "codemirror_mode": {
    "name": "ipython",
    "version": 3
   },
   "file_extension": ".py",
   "mimetype": "text/x-python",
   "name": "python",
   "nbconvert_exporter": "python",
   "pygments_lexer": "ipython3",
   "version": "3.7.5"
  }
 },
 "nbformat": 4,
 "nbformat_minor": 2
}

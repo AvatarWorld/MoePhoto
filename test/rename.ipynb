{
 "cells": [
  {
   "cell_type": "code",
   "execution_count": null,
   "metadata": {},
   "outputs": [],
   "source": [
    "!dir /b /w ."
   ]
  },
  {
   "cell_type": "code",
   "execution_count": null,
   "metadata": {},
   "outputs": [],
   "source": [
    "import sys\n",
    "import torch\n",
    "sys.path.append('../python')\n",
    "\n",
    "from MoeNet_lite2 import Net"
   ]
  },
  {
   "cell_type": "code",
   "execution_count": null,
   "metadata": {},
   "outputs": [],
   "source": [
    "cuda = torch.cuda.is_available()\n",
    "dtype = torch.float32\n",
    "model = Net(4)\n",
    "model.eval()\n",
    "for param in model.parameters():\n",
    "    param.requires_grad_(False)\n",
    "weights = model.state_dict()\n",
    "for name in weights.keys():\n",
    "    print(name)"
   ]
  },
  {
   "cell_type": "code",
   "execution_count": null,
   "metadata": {},
   "outputs": [],
   "source": [
    "modelPath = './model_epoch_43.pth'\n",
    "o = torch.load(modelPath, map_location='cpu')\n",
    "for key in o:\n",
    "    print(key)"
   ]
  },
  {
   "cell_type": "code",
   "execution_count": null,
   "metadata": {},
   "outputs": [],
   "source": [
    "w = o['model'].state_dict()\n",
    "for name in w.keys():\n",
    "    print(name)"
   ]
  },
  {
   "cell_type": "code",
   "execution_count": null,
   "metadata": {},
   "outputs": [],
   "source": [
    "for name in weights.keys():\n",
    "    weights[name] = w['module.' + name]"
   ]
  },
  {
   "cell_type": "code",
   "execution_count": null,
   "metadata": {},
   "outputs": [],
   "source": [
    "def changeName(old, new):\n",
    "    weights[new] = weights[old]\n",
    "    del weights[old]\n",
    "\n",
    "names = ['conv_1.weight', 'conv_2.weight', 'relu.weight', 'scale.scale']\n",
    "for i in range(6):\n",
    "    for name in names:\n",
    "        changeName('convt_F1{}.{}'.format(i + 1, name), 'convt_F{}.{}'.format(i + 1, name))\n",
    "changeName('convt_shape1.weight', 'u.weight')"
   ]
  },
  {
   "cell_type": "code",
   "execution_count": null,
   "metadata": {},
   "outputs": [],
   "source": [
    "model.load_state_dict(weights)\n",
    "torch.save(model.state_dict(), '../model/lite/model_4.pth')"
   ]
  }
 ],
 "metadata": {
  "kernelspec": {
   "display_name": "Python 3",
   "language": "python",
   "name": "python3"
  },
  "language_info": {
   "codemirror_mode": {
    "name": "ipython",
    "version": 3
   },
   "file_extension": ".py",
   "mimetype": "text/x-python",
   "name": "python",
   "nbconvert_exporter": "python",
   "pygments_lexer": "ipython3",
   "version": "3.7.1"
  }
 },
 "nbformat": 4,
 "nbformat_minor": 2
}

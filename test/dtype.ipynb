{
 "cells": [
  {
   "cell_type": "code",
   "execution_count": null,
   "metadata": {},
   "outputs": [],
   "source": [
    "import sys\n",
    "sys.path.append('../python')\n",
    "import torch\n",
    "import torch.nn.functional as F\n",
    "from PIL import Image\n",
    "from config import config\n",
    "from imageProcess import toTorch, readFile, toOutput\n",
    "from MoeNet_lite2 import Net\n",
    "import runSR\n",
    "\n",
    "show = lambda im: Image.fromarray(toOutput(8)(im).transpose(1, 2, 0))\n",
    "\n",
    "SRopt = runSR.getOpt('lite', 0)\n",
    "SRopt.model = '../model/lite/model_4.pth'\n",
    "SRopt.scale = 4\n",
    "SRopt.ramCoef = 1 / 10803.\n",
    "SRopt.cropsize = 0\n",
    "SRopt.mode = 'lite'\n",
    "SRopt.ensemble = 0\n",
    "SRopt.C2B = True"
   ]
  },
  {
   "cell_type": "code",
   "execution_count": null,
   "metadata": {},
   "outputs": [],
   "source": [
    "config.halfPrecision = True\n",
    "config.maxGraphicMemoryUsage = 3*2**31\n",
    "config.getFreeMem()\n",
    "device = torch.device('cuda') if torch.cuda.is_available() else torch.device('cpu')\n",
    "dtype = torch.half if torch.cuda.is_available() else torch.float\n",
    "SRopt.modelCached = Net(SRopt.scale)\n",
    "SRopt.modelCached.load_state_dict(torch.load(SRopt.model))\n",
    "readFile = readFile()"
   ]
  },
  {
   "cell_type": "code",
   "execution_count": null,
   "metadata": {},
   "outputs": [],
   "source": [
    "original = toTorch(8, dtype, device)(readFile('example1s.png'))\n",
    "print(dtype, original.shape)"
   ]
  },
  {
   "cell_type": "code",
   "execution_count": null,
   "metadata": {},
   "outputs": [],
   "source": [
    "show(original)"
   ]
  },
  {
   "cell_type": "code",
   "execution_count": null,
   "metadata": {},
   "outputs": [],
   "source": [
    "res = runSR.sr(original, SRopt)"
   ]
  },
  {
   "cell_type": "code",
   "execution_count": null,
   "metadata": {},
   "outputs": [],
   "source": [
    "res = runSR.sr(original, SRopt)\n",
    "print(F.l1_loss(res.to(dtype=torch.float), original.to(dtype=torch.float)))\n",
    "print(F.mse_loss(res.to(dtype=torch.float), original.to(dtype=torch.float)))\n",
    "show(res)"
   ]
  },
  {
   "cell_type": "code",
   "execution_count": null,
   "metadata": {},
   "outputs": [],
   "source": [
    "res = SRopt.modelCached(original.unsqueeze(1))[0].squeeze(1)\n",
    "show(res)"
   ]
  }
 ],
 "metadata": {
  "kernelspec": {
   "display_name": "Python 3",
   "language": "python",
   "name": "python3"
  },
  "language_info": {
   "codemirror_mode": {
    "name": "ipython",
    "version": 3
   },
   "file_extension": ".py",
   "mimetype": "text/x-python",
   "name": "python",
   "nbconvert_exporter": "python",
   "pygments_lexer": "ipython3",
<<<<<<< HEAD
   "version": "3.7.3"
=======
   "version": "3.7.4"
>>>>>>> 8dd62159e7834a58673a16b01022ad0641205ecd
  }
 },
 "nbformat": 4,
 "nbformat_minor": 2
}
